{
 "cells": [
  {
   "cell_type": "code",
   "execution_count": null,
   "metadata": {},
   "outputs": [],
   "source": [
    "#write a class to find the area of a triangle"
   ]
  },
  {
   "cell_type": "code",
   "execution_count": 23,
   "metadata": {},
   "outputs": [
    {
     "name": "stdout",
     "output_type": "stream",
     "text": [
      "Area is =  43.30127018922193\n"
     ]
    }
   ],
   "source": [
    "class Triangle:\n",
    "\n",
    "    def runThis(self, s1, s2, s3, x):\n",
    "        #get the sides\n",
    "        s=(s1 + s2 + s3)/x\n",
    "        #print out the area\n",
    "        print(\"Area is = \", ((s*(s-s1)*(s-s2)*(s-s3))**0.5))\n",
    "    \n",
    "class Questions:  #triangle legs\n",
    "\n",
    "    def runThis(self,x):\n",
    "        s1=int(input(\"Enter side 1: \"))\n",
    "        s2=int(input(\"Enter side 2: \"))\n",
    "        s3=int(input(\"Enter side 3: \"))\n",
    "        a = Triangle()\n",
    "        a.runThis(s1, s2, s3, x)\n",
    "\n",
    "instance = Questions()\n",
    "\n",
    "instance.runThis(2)"
   ]
  },
  {
   "cell_type": "code",
   "execution_count": null,
   "metadata": {},
   "outputs": [],
   "source": []
  },
  {
   "cell_type": "code",
   "execution_count": null,
   "metadata": {},
   "outputs": [],
   "source": []
  },
  {
   "cell_type": "code",
   "execution_count": null,
   "metadata": {},
   "outputs": [],
   "source": [
    "#Write a function filter_long_words() that takes a list of words and an integer n and returns\n",
    "#the list of words that are longer than n."
   ]
  },
  {
   "cell_type": "code",
   "execution_count": 46,
   "metadata": {},
   "outputs": [
    {
     "name": "stdout",
     "output_type": "stream",
     "text": [
      "Enter s sentence: I cannot wait to fly to Madrid on Saturday!\n",
      "['Enter', 'sentence:', 'cannot', 'Madrid', 'Saturday!']\n"
     ]
    }
   ],
   "source": [
    "def filter_long_words(sentence,number):\n",
    "    new_list=[]\n",
    "    print(sentence)\n",
    "    sentencelist = sentence.split()\n",
    "    for x in sentencelist:\n",
    "        if (len(x) > number):\n",
    "            new_list.append(x)\n",
    "        \n",
    "    print(new_list)\n",
    "\n",
    "\n",
    "sentence = input('Enter a sentence: ')\n",
    "number = int(input(\"enter a number beteen 1 and 5:  \"))\n",
    "filter_long_words(sentence, number)"
   ]
  },
  {
   "cell_type": "code",
   "execution_count": null,
   "metadata": {},
   "outputs": [],
   "source": []
  },
  {
   "cell_type": "code",
   "execution_count": null,
   "metadata": {},
   "outputs": [],
   "source": []
  },
  {
   "cell_type": "code",
   "execution_count": 48,
   "metadata": {},
   "outputs": [],
   "source": [
    "#Write a Python program using function concept that maps list of words into a list of integers\n",
    "#representing the lengths of the corresponding words ."
   ]
  },
  {
   "cell_type": "code",
   "execution_count": 56,
   "metadata": {},
   "outputs": [
    {
     "name": "stdout",
     "output_type": "stream",
     "text": [
      "['function', 'concept', 'that', 'maps', 'list', 'of', 'words', 'into', 'a', 'list', 'of', 'integers']\n",
      "[8, 7, 4, 4, 4, 2, 5, 4, 1, 4, 2, 8]\n"
     ]
    }
   ],
   "source": [
    "def words(sentence):\n",
    "    new_list=[]\n",
    "    #print(sentence)\n",
    "    sentencelist = sentence.split()\n",
    "    print(sentencelist)\n",
    "    for x in sentencelist:\n",
    "        y = len(x)\n",
    "        new_list.append(y)\n",
    "        \n",
    "    print(new_list)\n",
    "\n",
    "\n",
    "sentence = input('Enter a sentence: ')\n",
    "#number = int(input(\"enter a number beteen 1 and 5:  \"))\n",
    "words(sentence)"
   ]
  },
  {
   "cell_type": "code",
   "execution_count": null,
   "metadata": {},
   "outputs": [],
   "source": []
  },
  {
   "cell_type": "code",
   "execution_count": 58,
   "metadata": {},
   "outputs": [],
   "source": [
    "#Write a Python function which takes a character (i.e. a string of length 1) and returns True if\n",
    "#it is a vowel, False otherwise."
   ]
  },
  {
   "cell_type": "code",
   "execution_count": 79,
   "metadata": {},
   "outputs": [
    {
     "name": "stdout",
     "output_type": "stream",
     "text": [
      "True\n"
     ]
    }
   ],
   "source": [
    "def get_vowel(x):\n",
    "    if x in ('a', 'e', 'i', 'o', 'u'):\n",
    "        answer = True\n",
    "    elif x == 'y':\n",
    "        answer = \"Maybe\"\n",
    "    else:\n",
    "        answer = False\n",
    "        \n",
    "    print(answer)\n",
    "        \n",
    "\n",
    "x = input('Enter a letter to see if it a vowel: ')\n",
    "get_vowel(x)"
   ]
  },
  {
   "cell_type": "code",
   "execution_count": null,
   "metadata": {},
   "outputs": [],
   "source": []
  },
  {
   "cell_type": "code",
   "execution_count": null,
   "metadata": {},
   "outputs": [],
   "source": []
  }
 ],
 "metadata": {
  "kernelspec": {
   "display_name": "Python 3",
   "language": "python",
   "name": "python3"
  },
  "language_info": {
   "codemirror_mode": {
    "name": "ipython",
    "version": 3
   },
   "file_extension": ".py",
   "mimetype": "text/x-python",
   "name": "python",
   "nbconvert_exporter": "python",
   "pygments_lexer": "ipython3",
   "version": "3.6.5"
  }
 },
 "nbformat": 4,
 "nbformat_minor": 2
}
